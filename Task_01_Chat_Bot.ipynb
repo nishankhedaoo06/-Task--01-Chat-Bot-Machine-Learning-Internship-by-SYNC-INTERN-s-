{
  "nbformat": 4,
  "nbformat_minor": 0,
  "metadata": {
    "colab": {
      "provenance": []
    },
    "kernelspec": {
      "name": "python3",
      "display_name": "Python 3"
    },
    "language_info": {
      "name": "python"
    }
  },
  "cells": [
    {
      "cell_type": "markdown",
      "source": [
        "# Name : Nishank Hedaoo \n",
        "\n",
        "# Email : nishank.hedaoo.ai@ghrietn.raisoni.net"
      ],
      "metadata": {
        "id": "rabsdXREo6kK"
      }
    },
    {
      "cell_type": "markdown",
      "source": [
        "# **Task 1 - To create Chat Bot**"
      ],
      "metadata": {
        "id": "RCSsQMbLpQNZ"
      }
    },
    {
      "cell_type": "code",
      "execution_count": 12,
      "metadata": {
        "id": "0rrgCbRSg4Az"
      },
      "outputs": [],
      "source": [
        "import numpy as np\n",
        "import nltk\n",
        "import string\n",
        "import random"
      ]
    },
    {
      "cell_type": "code",
      "source": [
        "import pandas as pd\n",
        "import nltk\n",
        "from nltk.corpus import stopwords\n",
        "import re\n",
        "import os\n",
        "import codecs\n",
        "from sklearn import feature_extraction\n",
        "from nltk.stem.snowball import SnowballStemmer\n",
        "from sklearn.feature_extraction.text import TfidfVectorizer"
      ],
      "metadata": {
        "id": "dzIQKfNUhjng"
      },
      "execution_count": 13,
      "outputs": []
    },
    {
      "cell_type": "code",
      "source": [
        "f=open('/content/Chat bot.txt','r',errors='ignore')\n",
        "raw_doc=f.read()\n",
        "raw_doc=raw_doc.lower()\n",
        "nltk.download('punkt')\n",
        "nltk.download('wordnet')\n",
        "sent_tokens=nltk.sent_tokenize(raw_doc)\n",
        "word_tokens=nltk.word_tokenize(raw_doc)"
      ],
      "metadata": {
        "colab": {
          "base_uri": "https://localhost:8080/"
        },
        "id": "O8EmO7nQhlnI",
        "outputId": "e38c021e-5702-4097-eb4c-c7c2527b390a"
      },
      "execution_count": 14,
      "outputs": [
        {
          "output_type": "stream",
          "name": "stderr",
          "text": [
            "[nltk_data] Downloading package punkt to /root/nltk_data...\n",
            "[nltk_data]   Unzipping tokenizers/punkt.zip.\n",
            "[nltk_data] Downloading package wordnet to /root/nltk_data...\n"
          ]
        }
      ]
    },
    {
      "cell_type": "code",
      "source": [
        "sent_tokens[:2]"
      ],
      "metadata": {
        "colab": {
          "base_uri": "https://localhost:8080/"
        },
        "id": "by5oVSHVhp3z",
        "outputId": "d95e71b0-3ec8-4e33-a1b7-bf7ee9b6d708"
      },
      "execution_count": 16,
      "outputs": [
        {
          "output_type": "execute_result",
          "data": {
            "text/plain": [
              "['hello\\n hi.', \"what's up\\n nothing.\"]"
            ]
          },
          "metadata": {},
          "execution_count": 16
        }
      ]
    },
    {
      "cell_type": "code",
      "source": [
        "['hello\\n hi.', \"what's up\\n nothing.\"]"
      ],
      "metadata": {
        "colab": {
          "base_uri": "https://localhost:8080/"
        },
        "id": "5zEyUaQjneMN",
        "outputId": "542d28fc-9e76-4d19-aa2d-2b4e7619d419"
      },
      "execution_count": 17,
      "outputs": [
        {
          "output_type": "execute_result",
          "data": {
            "text/plain": [
              "['hello\\n hi.', \"what's up\\n nothing.\"]"
            ]
          },
          "metadata": {},
          "execution_count": 17
        }
      ]
    },
    {
      "cell_type": "code",
      "source": [
        "word_tokens[:2]"
      ],
      "metadata": {
        "colab": {
          "base_uri": "https://localhost:8080/"
        },
        "id": "SlDLat-pnh3l",
        "outputId": "ecbb1ec8-e840-4b4a-f9ce-9b6a8ea78f6d"
      },
      "execution_count": 18,
      "outputs": [
        {
          "output_type": "execute_result",
          "data": {
            "text/plain": [
              "['hello', 'hi']"
            ]
          },
          "metadata": {},
          "execution_count": 18
        }
      ]
    },
    {
      "cell_type": "code",
      "source": [
        "['hello', 'hi']"
      ],
      "metadata": {
        "colab": {
          "base_uri": "https://localhost:8080/"
        },
        "id": "v-zF_9FCnlM9",
        "outputId": "b3950ac5-416b-44e8-ba1c-c6245de82ed0"
      },
      "execution_count": 19,
      "outputs": [
        {
          "output_type": "execute_result",
          "data": {
            "text/plain": [
              "['hello', 'hi']"
            ]
          },
          "metadata": {},
          "execution_count": 19
        }
      ]
    },
    {
      "cell_type": "code",
      "source": [
        "lemmer= nltk.stem.WordNetLemmatizer()\n",
        "def LemTokens(tokens):\n",
        "    return[lemmer.lemmatize(token) for token in tokens]\n",
        "remove_punct_dict=dict((ord(punct),None)for punct in string.punctuation)\n",
        "def LemNormalize(text):\n",
        "    return  LemTokens(nltk.word_tokenize(text.lower().translate(remove_punct_dict)))"
      ],
      "metadata": {
        "id": "4mEsH_YdnokC"
      },
      "execution_count": 20,
      "outputs": []
    },
    {
      "cell_type": "code",
      "source": [
        "GREET_INPUTS=[\"Hello\",\"What's up\",\"How are you\"]\n",
        "GREET_RESPONSES=[\"hi\",\"No thing\",\"i am good\"]"
      ],
      "metadata": {
        "id": "zMC-_MornsXG"
      },
      "execution_count": 21,
      "outputs": []
    },
    {
      "cell_type": "code",
      "source": [
        "def greet(sentence):\n",
        "    for word in sentence.split():\n",
        "        if word.lower() in GREET_INPUTS:\n",
        "            return (GREET_RESPONSES)"
      ],
      "metadata": {
        "id": "FQ6B571YnvSC"
      },
      "execution_count": 22,
      "outputs": []
    },
    {
      "cell_type": "code",
      "source": [
        "from sklearn.feature_extraction.text import TfidfVectorizer\n",
        "from sklearn.metrics.pairwise import cosine_similarity\n",
        "def response(user_response):\n",
        "    robo1_response=''\n",
        "    TfidVec=TfidfVectorizer(tokenizer=LemNormalize, stop_words='english')\n",
        "    tfidf= TfidVec.fit_transform(sent_tokens)\n",
        "    vals=cosine_similarity(tfidf[-1],tfidf)\n",
        "    idx=vals.argsort()[0][-2]\n",
        "    flat=vals.flatten()\n",
        "    flat.sort()\n",
        "    req_tfidf=flat[-2]\n",
        "    if(req_tfidf==0):\n",
        "        robo1_response=robo1_response+\"I am sorry I don't understand you\"\n",
        "        return robo1_response\n",
        "    else:\n",
        "        robo1_response=robo1_response+sent_tokens[idx]\n",
        "        return robo1_response"
      ],
      "metadata": {
        "id": "-7G92ZPrny8J"
      },
      "execution_count": 23,
      "outputs": []
    },
    {
      "cell_type": "code",
      "source": [
        "flag=True\n",
        "print(\"BOT:my name is chatbot.\")\n",
        "while (flag==True):\n",
        "    user_response= input()\n",
        "    user_response=user_response.lower()\n",
        "    if(user_response!='bye'):\n",
        "        if(user_response=='thanks'):\n",
        "            flag=False\n",
        "            print(\"BOT:you are welcome..\")\n",
        "        else:\n",
        "            if(greet(user_response)!=None):\n",
        "                    print(\"BOT:\"+greet(user_response))\n",
        "            else:\n",
        "                        sent_tokens.append(user_response)\n",
        "                        word_tokens=word_tokens+nltk.word_tokenize(user_response)\n",
        "                        final_words=list(set(word_tokens))\n",
        "                        print(\"BOT:\",end=\"\")\n",
        "                        print(response(user_response))\n",
        "                        sent_tokens.remove(user_response)\n"
      ],
      "metadata": {
        "colab": {
          "base_uri": "https://localhost:8080/"
        },
        "id": "hqJa7XAOn6iR",
        "outputId": "94632a19-be67-4bf6-a7ad-206f961c6b24"
      },
      "execution_count": null,
      "outputs": [
        {
          "output_type": "stream",
          "name": "stdout",
          "text": [
            "BOT:my name is chatbot.\n",
            "Hi\n",
            "BOT:"
          ]
        },
        {
          "output_type": "stream",
          "name": "stderr",
          "text": [
            "/usr/local/lib/python3.9/dist-packages/sklearn/feature_extraction/text.py:528: UserWarning: The parameter 'token_pattern' will not be used since 'tokenizer' is not None'\n",
            "  warnings.warn(\n",
            "/usr/local/lib/python3.9/dist-packages/sklearn/feature_extraction/text.py:409: UserWarning: Your stop_words may be inconsistent with your preprocessing. Tokenizing the stop words generated tokens ['ha', 'le', 'u', 'wa'] not in stop_words.\n",
            "  warnings.warn(\n"
          ]
        },
        {
          "output_type": "stream",
          "name": "stdout",
          "text": [
            "hello\n",
            " hi.\n",
            "Name\n",
            "BOT:I am sorry I don't understand you\n",
            "what is your name\n",
            "BOT:I am sorry I don't understand you\n",
            "How are you\n",
            "BOT:I am sorry I don't understand you\n",
            "What's up\n",
            "BOT:what's up\n",
            " nothing.\n"
          ]
        }
      ]
    }
  ]
}